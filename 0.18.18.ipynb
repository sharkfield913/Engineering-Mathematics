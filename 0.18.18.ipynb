{
 "cells": [
  {
   "cell_type": "code",
   "execution_count": 2,
   "metadata": {},
   "outputs": [
    {
     "data": {
      "text/latex": [
       "$\\displaystyle - \\frac{x z + y^{2}}{x y + z^{2}}$"
      ],
      "text/plain": [
       "-(x*z + y**2)/(x*y + z**2)"
      ]
     },
     "execution_count": 2,
     "metadata": {},
     "output_type": "execute_result"
    }
   ],
   "source": [
    "from sympy import*\n",
    "x,y,z=symbols('x,y,z')\n",
    "f=x**3+y**3+z**3+3*x*y*z\n",
    "idiff(f,z,y)"
   ]
  }
 ],
 "metadata": {
  "kernelspec": {
   "display_name": "Python 3",
   "language": "python",
   "name": "python3"
  },
  "language_info": {
   "codemirror_mode": {
    "name": "ipython",
    "version": 3
   },
   "file_extension": ".py",
   "mimetype": "text/x-python",
   "name": "python",
   "nbconvert_exporter": "python",
   "pygments_lexer": "ipython3",
   "version": "3.10.8"
  },
  "orig_nbformat": 4,
  "vscode": {
   "interpreter": {
    "hash": "f913ba3e57e76821e421a89bd7bb9694390d9cda7e9a881ba7e93febeab53170"
   }
  }
 },
 "nbformat": 4,
 "nbformat_minor": 2
}
