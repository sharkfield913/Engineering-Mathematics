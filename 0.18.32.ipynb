{
 "cells": [
  {
   "cell_type": "code",
   "execution_count": 1,
   "metadata": {},
   "outputs": [
    {
     "data": {
      "text/latex": [
       "$\\displaystyle - \\frac{1}{6} + \\frac{65 \\sqrt{65}}{6}$"
      ],
      "text/plain": [
       "-1/6 + 65*sqrt(65)/6"
      ]
     },
     "execution_count": 1,
     "metadata": {},
     "output_type": "execute_result"
    }
   ],
   "source": [
    "from sympy import*\n",
    "r,theta=symbols('r,theta')\n",
    "x=r*cos(theta)\n",
    "y=r*sin(theta)\n",
    "f=sqrt(4*x**2+4*y**2+1)\n",
    "integrate(f*r,(r,0,4),(theta,0,2,pi))"
   ]
  }
 ],
 "metadata": {
  "kernelspec": {
   "display_name": "Engineering Mathematics",
   "language": "python",
   "name": "conda"
  },
  "language_info": {
   "codemirror_mode": {
    "name": "ipython",
    "version": 3
   },
   "file_extension": ".py",
   "mimetype": "text/x-python",
   "name": "python",
   "nbconvert_exporter": "python",
   "pygments_lexer": "ipython3",
   "version": "3.10.8"
  },
  "orig_nbformat": 4
 },
 "nbformat": 4,
 "nbformat_minor": 2
}
