{
 "cells": [
  {
   "cell_type": "code",
   "execution_count": 1,
   "metadata": {},
   "outputs": [
    {
     "data": {
      "text/latex": [
       "$\\displaystyle \\frac{\\pi}{6}$"
      ],
      "text/plain": [
       "pi/6"
      ]
     },
     "execution_count": 1,
     "metadata": {},
     "output_type": "execute_result"
    }
   ],
   "source": [
    "from sympy import*\n",
    "r,theta=symbols('r,theta')\n",
    "x=r*cos(theta)\n",
    "y=r*sin(theta)\n",
    "f=sqrt(x**2+y**2)\n",
    "integrate(f*r,(r,0,1),(theta,0,pi/2))"
   ]
  }
 ],
 "metadata": {
  "kernelspec": {
   "display_name": "Engineering Mathematics",
   "language": "python",
   "name": "conda"
  },
  "language_info": {
   "codemirror_mode": {
    "name": "ipython",
    "version": 3
   },
   "file_extension": ".py",
   "mimetype": "text/x-python",
   "name": "python",
   "nbconvert_exporter": "python",
   "pygments_lexer": "ipython3",
   "version": "3.10.8"
  },
  "orig_nbformat": 4
 },
 "nbformat": 4,
 "nbformat_minor": 2
}
