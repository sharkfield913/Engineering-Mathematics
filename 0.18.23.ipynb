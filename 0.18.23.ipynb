{
 "cells": [
  {
   "cell_type": "code",
   "execution_count": 1,
   "metadata": {},
   "outputs": [
    {
     "data": {
      "text/latex": [
       "$\\displaystyle \\frac{3^{x + 1}}{\\log{\\left(3 \\right)}} - 2 e^{- x}$"
      ],
      "text/plain": [
       "3**(x + 1)/log(3) - 2*exp(-x)"
      ]
     },
     "execution_count": 1,
     "metadata": {},
     "output_type": "execute_result"
    }
   ],
   "source": [
    "from sympy import*\n",
    "x=symbols('x')\n",
    "f=2*exp(-x)+3**(x+1)\n",
    "integrate(f,x)"
   ]
  }
 ],
 "metadata": {
  "kernelspec": {
   "display_name": "Python 3",
   "language": "python",
   "name": "python3"
  },
  "language_info": {
   "codemirror_mode": {
    "name": "ipython",
    "version": 3
   },
   "file_extension": ".py",
   "mimetype": "text/x-python",
   "name": "python",
   "nbconvert_exporter": "python",
   "pygments_lexer": "ipython3",
   "version": "3.10.8"
  },
  "orig_nbformat": 4,
  "vscode": {
   "interpreter": {
    "hash": "f913ba3e57e76821e421a89bd7bb9694390d9cda7e9a881ba7e93febeab53170"
   }
  }
 },
 "nbformat": 4,
 "nbformat_minor": 2
}
